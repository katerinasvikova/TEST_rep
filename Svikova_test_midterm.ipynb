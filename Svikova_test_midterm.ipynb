{
 "cells": [
  {
   "cell_type": "code",
   "execution_count": 1,
   "metadata": {},
   "outputs": [],
   "source": [
    "import math\n",
    "import numpy as np\n",
    "import pandas as pd\n",
    "import seaborn as sns\n",
    "import matplotlib.pyplot as plt\n",
    "import scipy.stats as stats\n",
    "%matplotlib inline"
   ]
  },
  {
   "cell_type": "code",
   "execution_count": 20,
   "metadata": {},
   "outputs": [],
   "source": [
    "df = pd.read_csv('PX_Ret_RV.csv', parse_dates=[\"Date\"], date_format=\"%d-%m-%y\")"
   ]
  },
  {
   "cell_type": "code",
   "execution_count": 30,
   "metadata": {},
   "outputs": [
    {
     "name": "stderr",
     "output_type": "stream",
     "text": [
      "C:\\Users\\Kateřina\\AppData\\Local\\Temp\\ipykernel_32648\\1747074881.py:2: UserWarning: Could not infer format, so each element will be parsed individually, falling back to `dateutil`. To ensure parsing is consistent and as-expected, please specify a format.\n",
      "  df['Date'] = pd.to_datetime(df['Date'], dayfirst=True)\n"
     ]
    }
   ],
   "source": [
    "#conveting to datetime object\n",
    "df['Date'] = pd.to_datetime(df['Date'], dayfirst=True)\n"
   ]
  },
  {
   "cell_type": "code",
   "execution_count": 31,
   "metadata": {},
   "outputs": [
    {
     "data": {
      "text/html": [
       "<div>\n",
       "<style scoped>\n",
       "    .dataframe tbody tr th:only-of-type {\n",
       "        vertical-align: middle;\n",
       "    }\n",
       "\n",
       "    .dataframe tbody tr th {\n",
       "        vertical-align: top;\n",
       "    }\n",
       "\n",
       "    .dataframe thead th {\n",
       "        text-align: right;\n",
       "    }\n",
       "</style>\n",
       "<table border=\"1\" class=\"dataframe\">\n",
       "  <thead>\n",
       "    <tr style=\"text-align: right;\">\n",
       "      <th></th>\n",
       "      <th>Date</th>\n",
       "      <th>Price</th>\n",
       "      <th>Ret</th>\n",
       "      <th>RV</th>\n",
       "    </tr>\n",
       "  </thead>\n",
       "  <tbody>\n",
       "    <tr>\n",
       "      <th>0</th>\n",
       "      <td>2008-03-01</td>\n",
       "      <td>-0.009109</td>\n",
       "      <td>0.000041</td>\n",
       "      <td>1792.2</td>\n",
       "    </tr>\n",
       "    <tr>\n",
       "      <th>1</th>\n",
       "      <td>2008-04-01</td>\n",
       "      <td>-0.016370</td>\n",
       "      <td>0.000090</td>\n",
       "      <td>1763.1</td>\n",
       "    </tr>\n",
       "    <tr>\n",
       "      <th>2</th>\n",
       "      <td>2008-07-01</td>\n",
       "      <td>-0.022136</td>\n",
       "      <td>0.000114</td>\n",
       "      <td>1724.5</td>\n",
       "    </tr>\n",
       "    <tr>\n",
       "      <th>3</th>\n",
       "      <td>2008-08-01</td>\n",
       "      <td>0.004917</td>\n",
       "      <td>0.000082</td>\n",
       "      <td>1733.0</td>\n",
       "    </tr>\n",
       "    <tr>\n",
       "      <th>4</th>\n",
       "      <td>2008-09-01</td>\n",
       "      <td>-0.025836</td>\n",
       "      <td>0.000147</td>\n",
       "      <td>1688.8</td>\n",
       "    </tr>\n",
       "  </tbody>\n",
       "</table>\n",
       "</div>"
      ],
      "text/plain": [
       "        Date     Price       Ret      RV\n",
       "0 2008-03-01 -0.009109  0.000041  1792.2\n",
       "1 2008-04-01 -0.016370  0.000090  1763.1\n",
       "2 2008-07-01 -0.022136  0.000114  1724.5\n",
       "3 2008-08-01  0.004917  0.000082  1733.0\n",
       "4 2008-09-01 -0.025836  0.000147  1688.8"
      ]
     },
     "execution_count": 31,
     "metadata": {},
     "output_type": "execute_result"
    }
   ],
   "source": [
    "df.head()"
   ]
  },
  {
   "cell_type": "code",
   "execution_count": 32,
   "metadata": {},
   "outputs": [],
   "source": [
    "df['Year'] = df['Date'].dt.year"
   ]
  },
  {
   "cell_type": "code",
   "execution_count": 33,
   "metadata": {},
   "outputs": [
    {
     "data": {
      "text/html": [
       "<div>\n",
       "<style scoped>\n",
       "    .dataframe tbody tr th:only-of-type {\n",
       "        vertical-align: middle;\n",
       "    }\n",
       "\n",
       "    .dataframe tbody tr th {\n",
       "        vertical-align: top;\n",
       "    }\n",
       "\n",
       "    .dataframe thead th {\n",
       "        text-align: right;\n",
       "    }\n",
       "</style>\n",
       "<table border=\"1\" class=\"dataframe\">\n",
       "  <thead>\n",
       "    <tr style=\"text-align: right;\">\n",
       "      <th></th>\n",
       "      <th>Date</th>\n",
       "      <th>Price</th>\n",
       "      <th>Ret</th>\n",
       "      <th>RV</th>\n",
       "      <th>Year</th>\n",
       "    </tr>\n",
       "  </thead>\n",
       "  <tbody>\n",
       "    <tr>\n",
       "      <th>0</th>\n",
       "      <td>2008-03-01</td>\n",
       "      <td>-0.009109</td>\n",
       "      <td>0.000041</td>\n",
       "      <td>1792.2</td>\n",
       "      <td>2008</td>\n",
       "    </tr>\n",
       "    <tr>\n",
       "      <th>1</th>\n",
       "      <td>2008-04-01</td>\n",
       "      <td>-0.016370</td>\n",
       "      <td>0.000090</td>\n",
       "      <td>1763.1</td>\n",
       "      <td>2008</td>\n",
       "    </tr>\n",
       "    <tr>\n",
       "      <th>2</th>\n",
       "      <td>2008-07-01</td>\n",
       "      <td>-0.022136</td>\n",
       "      <td>0.000114</td>\n",
       "      <td>1724.5</td>\n",
       "      <td>2008</td>\n",
       "    </tr>\n",
       "    <tr>\n",
       "      <th>3</th>\n",
       "      <td>2008-08-01</td>\n",
       "      <td>0.004917</td>\n",
       "      <td>0.000082</td>\n",
       "      <td>1733.0</td>\n",
       "      <td>2008</td>\n",
       "    </tr>\n",
       "    <tr>\n",
       "      <th>4</th>\n",
       "      <td>2008-09-01</td>\n",
       "      <td>-0.025836</td>\n",
       "      <td>0.000147</td>\n",
       "      <td>1688.8</td>\n",
       "      <td>2008</td>\n",
       "    </tr>\n",
       "  </tbody>\n",
       "</table>\n",
       "</div>"
      ],
      "text/plain": [
       "        Date     Price       Ret      RV  Year\n",
       "0 2008-03-01 -0.009109  0.000041  1792.2  2008\n",
       "1 2008-04-01 -0.016370  0.000090  1763.1  2008\n",
       "2 2008-07-01 -0.022136  0.000114  1724.5  2008\n",
       "3 2008-08-01  0.004917  0.000082  1733.0  2008\n",
       "4 2008-09-01 -0.025836  0.000147  1688.8  2008"
      ]
     },
     "execution_count": 33,
     "metadata": {},
     "output_type": "execute_result"
    }
   ],
   "source": [
    "df.head()"
   ]
  },
  {
   "cell_type": "code",
   "execution_count": 34,
   "metadata": {},
   "outputs": [
    {
     "data": {
      "text/html": [
       "<div>\n",
       "<style scoped>\n",
       "    .dataframe tbody tr th:only-of-type {\n",
       "        vertical-align: middle;\n",
       "    }\n",
       "\n",
       "    .dataframe tbody tr th {\n",
       "        vertical-align: top;\n",
       "    }\n",
       "\n",
       "    .dataframe thead th {\n",
       "        text-align: right;\n",
       "    }\n",
       "</style>\n",
       "<table border=\"1\" class=\"dataframe\">\n",
       "  <thead>\n",
       "    <tr style=\"text-align: right;\">\n",
       "      <th></th>\n",
       "      <th>Date</th>\n",
       "      <th>Price</th>\n",
       "      <th>Ret</th>\n",
       "      <th>RV</th>\n",
       "      <th>Year</th>\n",
       "    </tr>\n",
       "  </thead>\n",
       "  <tbody>\n",
       "    <tr>\n",
       "      <th>1347</th>\n",
       "      <td>2013-05-30</td>\n",
       "      <td>-0.004377</td>\n",
       "      <td>0.000026</td>\n",
       "      <td>975.61</td>\n",
       "      <td>2013</td>\n",
       "    </tr>\n",
       "  </tbody>\n",
       "</table>\n",
       "</div>"
      ],
      "text/plain": [
       "           Date     Price       Ret      RV  Year\n",
       "1347 2013-05-30 -0.004377  0.000026  975.61  2013"
      ]
     },
     "execution_count": 34,
     "metadata": {},
     "output_type": "execute_result"
    }
   ],
   "source": [
    "df.iloc[-2:-1]"
   ]
  },
  {
   "cell_type": "markdown",
   "metadata": {},
   "source": [
    "1. Is there a company that has no difference between the Price and RV columns?\n",
    "What does it mean from the financial point of view for the stock (you can get bonus\n",
    "partial points)?\n"
   ]
  },
  {
   "cell_type": "code",
   "execution_count": 24,
   "metadata": {},
   "outputs": [
    {
     "data": {
      "text/plain": [
       "0"
      ]
     },
     "execution_count": 24,
     "metadata": {},
     "output_type": "execute_result"
    }
   ],
   "source": [
    "len(df[df[' Price'] == df[' RV']])"
   ]
  },
  {
   "cell_type": "markdown",
   "metadata": {},
   "source": [
    "2. What is the highest and lowest price (Adj Close) each company recorded?"
   ]
  },
  {
   "cell_type": "code",
   "execution_count": 25,
   "metadata": {},
   "outputs": [
    {
     "name": "stdout",
     "output_type": "stream",
     "text": [
      "-0.163042618 0.120887546\n"
     ]
    }
   ],
   "source": [
    "minprice = df[' Price'].min()\n",
    "maxprice = df[' Price'].max()\n",
    "print(minprice, maxprice)"
   ]
  },
  {
   "cell_type": "markdown",
   "metadata": {},
   "source": [
    "3. (1pt task) Calculate logarithmic returns from Adj Close. For each company report on\n",
    "its, min, man, mean, median of the return distribution.\n"
   ]
  },
  {
   "cell_type": "code",
   "execution_count": 38,
   "metadata": {},
   "outputs": [
    {
     "data": {
      "text/plain": [
       "5"
      ]
     },
     "execution_count": 38,
     "metadata": {},
     "output_type": "execute_result"
    }
   ],
   "source": [
    "len(df[df[' Price'] == 0])"
   ]
  },
  {
   "cell_type": "code",
   "execution_count": 36,
   "metadata": {},
   "outputs": [
    {
     "name": "stderr",
     "output_type": "stream",
     "text": [
      "C:\\Users\\Kateřina\\AppData\\Roaming\\Python\\Python312\\site-packages\\pandas\\core\\arraylike.py:399: RuntimeWarning: divide by zero encountered in log\n",
      "  result = getattr(ufunc, method)(*inputs, **kwargs)\n",
      "C:\\Users\\Kateřina\\AppData\\Roaming\\Python\\Python312\\site-packages\\pandas\\core\\arraylike.py:399: RuntimeWarning: invalid value encountered in log\n",
      "  result = getattr(ufunc, method)(*inputs, **kwargs)\n"
     ]
    }
   ],
   "source": [
    "df['Log Return'] = np.log(df[' Price'] / df[' Price'].shift(1))"
   ]
  },
  {
   "cell_type": "code",
   "execution_count": 51,
   "metadata": {},
   "outputs": [],
   "source": [
    "df = df.dropna()"
   ]
  },
  {
   "cell_type": "code",
   "execution_count": 47,
   "metadata": {},
   "outputs": [],
   "source": [
    "#all type of years\n",
    "#years = df['Year'].drop_duplicates().tolist()\n",
    "#years = pd.Series(years)\n",
    "#print(years)"
   ]
  },
  {
   "cell_type": "code",
   "execution_count": 56,
   "metadata": {},
   "outputs": [
    {
     "data": {
      "text/html": [
       "<div>\n",
       "<style scoped>\n",
       "    .dataframe tbody tr th:only-of-type {\n",
       "        vertical-align: middle;\n",
       "    }\n",
       "\n",
       "    .dataframe tbody tr th {\n",
       "        vertical-align: top;\n",
       "    }\n",
       "\n",
       "    .dataframe thead th {\n",
       "        text-align: right;\n",
       "    }\n",
       "</style>\n",
       "<table border=\"1\" class=\"dataframe\">\n",
       "  <thead>\n",
       "    <tr style=\"text-align: right;\">\n",
       "      <th></th>\n",
       "      <th>Log Return</th>\n",
       "    </tr>\n",
       "    <tr>\n",
       "      <th>Year</th>\n",
       "      <th></th>\n",
       "    </tr>\n",
       "  </thead>\n",
       "  <tbody>\n",
       "    <tr>\n",
       "      <th>2008</th>\n",
       "      <td>inf</td>\n",
       "    </tr>\n",
       "    <tr>\n",
       "      <th>2009</th>\n",
       "      <td>inf</td>\n",
       "    </tr>\n",
       "    <tr>\n",
       "      <th>2010</th>\n",
       "      <td>2.825073</td>\n",
       "    </tr>\n",
       "    <tr>\n",
       "      <th>2011</th>\n",
       "      <td>3.826691</td>\n",
       "    </tr>\n",
       "    <tr>\n",
       "      <th>2012</th>\n",
       "      <td>inf</td>\n",
       "    </tr>\n",
       "    <tr>\n",
       "      <th>2013</th>\n",
       "      <td>6.687291</td>\n",
       "    </tr>\n",
       "  </tbody>\n",
       "</table>\n",
       "</div>"
      ],
      "text/plain": [
       "      Log Return\n",
       "Year            \n",
       "2008         inf\n",
       "2009         inf\n",
       "2010    2.825073\n",
       "2011    3.826691\n",
       "2012         inf\n",
       "2013    6.687291"
      ]
     },
     "execution_count": 56,
     "metadata": {},
     "output_type": "execute_result"
    }
   ],
   "source": [
    "df.groupby('Year')[['Log Return']].max()"
   ]
  },
  {
   "cell_type": "markdown",
   "metadata": {},
   "source": [
    "4. When did each company record the highest gain and highest loss for the day?\n",
    "(logarithmic loss). Hint: idxmax"
   ]
  },
  {
   "cell_type": "code",
   "execution_count": null,
   "metadata": {},
   "outputs": [
    {
     "data": {
      "text/plain": [
       "np.int64(1294)"
      ]
     },
     "execution_count": 57,
     "metadata": {},
     "output_type": "execute_result"
    }
   ],
   "source": [
    "df['Date'].idxmax() #returns the index of the highest loss"
   ]
  },
  {
   "cell_type": "markdown",
   "metadata": {},
   "source": [
    "5. What is the average calendar weekly volume for each company? Hint: check how to\n",
    "resample pandas DF"
   ]
  },
  {
   "cell_type": "code",
   "execution_count": 58,
   "metadata": {},
   "outputs": [],
   "source": [
    "df.set_index('Date', inplace=True)"
   ]
  },
  {
   "cell_type": "code",
   "execution_count": 59,
   "metadata": {},
   "outputs": [
    {
     "data": {
      "text/html": [
       "<div>\n",
       "<style scoped>\n",
       "    .dataframe tbody tr th:only-of-type {\n",
       "        vertical-align: middle;\n",
       "    }\n",
       "\n",
       "    .dataframe tbody tr th {\n",
       "        vertical-align: top;\n",
       "    }\n",
       "\n",
       "    .dataframe thead th {\n",
       "        text-align: right;\n",
       "    }\n",
       "</style>\n",
       "<table border=\"1\" class=\"dataframe\">\n",
       "  <thead>\n",
       "    <tr style=\"text-align: right;\">\n",
       "      <th></th>\n",
       "      <th>Price</th>\n",
       "      <th>Ret</th>\n",
       "      <th>RV</th>\n",
       "      <th>Year</th>\n",
       "      <th>Log Return</th>\n",
       "    </tr>\n",
       "    <tr>\n",
       "      <th>Date</th>\n",
       "      <th></th>\n",
       "      <th></th>\n",
       "      <th></th>\n",
       "      <th></th>\n",
       "      <th></th>\n",
       "    </tr>\n",
       "  </thead>\n",
       "  <tbody>\n",
       "    <tr>\n",
       "      <th>2008-04-01</th>\n",
       "      <td>-0.016370</td>\n",
       "      <td>0.000090</td>\n",
       "      <td>1763.10</td>\n",
       "      <td>2008</td>\n",
       "      <td>0.586189</td>\n",
       "    </tr>\n",
       "    <tr>\n",
       "      <th>2008-07-01</th>\n",
       "      <td>-0.022136</td>\n",
       "      <td>0.000114</td>\n",
       "      <td>1724.50</td>\n",
       "      <td>2008</td>\n",
       "      <td>0.301758</td>\n",
       "    </tr>\n",
       "    <tr>\n",
       "      <th>2008-10-01</th>\n",
       "      <td>-0.025609</td>\n",
       "      <td>0.000300</td>\n",
       "      <td>1646.10</td>\n",
       "      <td>2008</td>\n",
       "      <td>-0.008803</td>\n",
       "    </tr>\n",
       "    <tr>\n",
       "      <th>2008-01-15</th>\n",
       "      <td>-0.018769</td>\n",
       "      <td>0.000160</td>\n",
       "      <td>1620.40</td>\n",
       "      <td>2008</td>\n",
       "      <td>1.594987</td>\n",
       "    </tr>\n",
       "    <tr>\n",
       "      <th>2008-01-16</th>\n",
       "      <td>-0.031088</td>\n",
       "      <td>0.000264</td>\n",
       "      <td>1570.80</td>\n",
       "      <td>2008</td>\n",
       "      <td>0.504631</td>\n",
       "    </tr>\n",
       "    <tr>\n",
       "      <th>...</th>\n",
       "      <td>...</td>\n",
       "      <td>...</td>\n",
       "      <td>...</td>\n",
       "      <td>...</td>\n",
       "      <td>...</td>\n",
       "    </tr>\n",
       "    <tr>\n",
       "      <th>2013-05-22</th>\n",
       "      <td>0.004945</td>\n",
       "      <td>0.000044</td>\n",
       "      <td>989.24</td>\n",
       "      <td>2013</td>\n",
       "      <td>1.366930</td>\n",
       "    </tr>\n",
       "    <tr>\n",
       "      <th>2013-05-24</th>\n",
       "      <td>-0.001272</td>\n",
       "      <td>0.000034</td>\n",
       "      <td>974.14</td>\n",
       "      <td>2013</td>\n",
       "      <td>-2.406197</td>\n",
       "    </tr>\n",
       "    <tr>\n",
       "      <th>2013-05-28</th>\n",
       "      <td>0.004828</td>\n",
       "      <td>0.000030</td>\n",
       "      <td>986.20</td>\n",
       "      <td>2013</td>\n",
       "      <td>-0.437249</td>\n",
       "    </tr>\n",
       "    <tr>\n",
       "      <th>2013-05-30</th>\n",
       "      <td>-0.004377</td>\n",
       "      <td>0.000026</td>\n",
       "      <td>975.61</td>\n",
       "      <td>2013</td>\n",
       "      <td>-0.382784</td>\n",
       "    </tr>\n",
       "    <tr>\n",
       "      <th>2013-05-31</th>\n",
       "      <td>-0.020755</td>\n",
       "      <td>0.000055</td>\n",
       "      <td>955.57</td>\n",
       "      <td>2013</td>\n",
       "      <td>1.556326</td>\n",
       "    </tr>\n",
       "  </tbody>\n",
       "</table>\n",
       "<p>680 rows × 5 columns</p>\n",
       "</div>"
      ],
      "text/plain": [
       "               Price       Ret       RV  Year  Log Return\n",
       "Date                                                     \n",
       "2008-04-01 -0.016370  0.000090  1763.10  2008    0.586189\n",
       "2008-07-01 -0.022136  0.000114  1724.50  2008    0.301758\n",
       "2008-10-01 -0.025609  0.000300  1646.10  2008   -0.008803\n",
       "2008-01-15 -0.018769  0.000160  1620.40  2008    1.594987\n",
       "2008-01-16 -0.031088  0.000264  1570.80  2008    0.504631\n",
       "...              ...       ...      ...   ...         ...\n",
       "2013-05-22  0.004945  0.000044   989.24  2013    1.366930\n",
       "2013-05-24 -0.001272  0.000034   974.14  2013   -2.406197\n",
       "2013-05-28  0.004828  0.000030   986.20  2013   -0.437249\n",
       "2013-05-30 -0.004377  0.000026   975.61  2013   -0.382784\n",
       "2013-05-31 -0.020755  0.000055   955.57  2013    1.556326\n",
       "\n",
       "[680 rows x 5 columns]"
      ]
     },
     "execution_count": 59,
     "metadata": {},
     "output_type": "execute_result"
    }
   ],
   "source": [
    "df"
   ]
  },
  {
   "cell_type": "code",
   "execution_count": null,
   "metadata": {},
   "outputs": [],
   "source": [
    "# 1. Convert the 'Date' column to datetime if it's not already\n",
    "#df['Date'] = pd.to_datetime(df['Date'])\n",
    "\n",
    "# 2. Set 'Date' as the index (if not already)\n",
    "#df.set_index('Date', inplace=True)\n",
    "\n",
    "# 3. Resample the data by week, and calculate the average volume for each company\n",
    "# 'W' stands for weekly frequency\n",
    "#weekly_avg_volume = df.groupby('Company').resample('W').mean()['Volume']\n",
    "\n",
    "# 4. If you only want the weekly average volume (no other columns), you can do:\n",
    "#weekly_avg_volume = df.groupby('Company').resample('W')['Volume'].mean()\n",
    "\n",
    "# Display the result\n",
    "#print(weekly_avg_volume)"
   ]
  },
  {
   "cell_type": "code",
   "execution_count": null,
   "metadata": {},
   "outputs": [],
   "source": [
    "weekly_avg = df.resample('W').mean() #mean of everything\n",
    "# weekly_avg_volume = df['Price'].resample('W').mean()"
   ]
  },
  {
   "cell_type": "code",
   "execution_count": 62,
   "metadata": {},
   "outputs": [
    {
     "data": {
      "text/html": [
       "<div>\n",
       "<style scoped>\n",
       "    .dataframe tbody tr th:only-of-type {\n",
       "        vertical-align: middle;\n",
       "    }\n",
       "\n",
       "    .dataframe tbody tr th {\n",
       "        vertical-align: top;\n",
       "    }\n",
       "\n",
       "    .dataframe thead th {\n",
       "        text-align: right;\n",
       "    }\n",
       "</style>\n",
       "<table border=\"1\" class=\"dataframe\">\n",
       "  <thead>\n",
       "    <tr style=\"text-align: right;\">\n",
       "      <th></th>\n",
       "      <th>Price</th>\n",
       "      <th>Ret</th>\n",
       "      <th>RV</th>\n",
       "      <th>Year</th>\n",
       "      <th>Log Return</th>\n",
       "    </tr>\n",
       "    <tr>\n",
       "      <th>Date</th>\n",
       "      <th></th>\n",
       "      <th></th>\n",
       "      <th></th>\n",
       "      <th></th>\n",
       "      <th></th>\n",
       "    </tr>\n",
       "  </thead>\n",
       "  <tbody>\n",
       "    <tr>\n",
       "      <th>2008-01-06</th>\n",
       "      <td>0.027051</td>\n",
       "      <td>0.000038</td>\n",
       "      <td>1562.500000</td>\n",
       "      <td>2008.0</td>\n",
       "      <td>0.920397</td>\n",
       "    </tr>\n",
       "    <tr>\n",
       "      <th>2008-01-13</th>\n",
       "      <td>-0.010284</td>\n",
       "      <td>0.000061</td>\n",
       "      <td>1451.100000</td>\n",
       "      <td>2008.0</td>\n",
       "      <td>0.649013</td>\n",
       "    </tr>\n",
       "    <tr>\n",
       "      <th>2008-01-20</th>\n",
       "      <td>-0.018598</td>\n",
       "      <td>0.000232</td>\n",
       "      <td>1584.233333</td>\n",
       "      <td>2008.0</td>\n",
       "      <td>0.148065</td>\n",
       "    </tr>\n",
       "    <tr>\n",
       "      <th>2008-01-27</th>\n",
       "      <td>-0.016112</td>\n",
       "      <td>0.000659</td>\n",
       "      <td>1468.966667</td>\n",
       "      <td>2008.0</td>\n",
       "      <td>-0.824038</td>\n",
       "    </tr>\n",
       "    <tr>\n",
       "      <th>2008-02-03</th>\n",
       "      <td>0.012443</td>\n",
       "      <td>0.000127</td>\n",
       "      <td>1520.300000</td>\n",
       "      <td>2008.0</td>\n",
       "      <td>0.422116</td>\n",
       "    </tr>\n",
       "    <tr>\n",
       "      <th>...</th>\n",
       "      <td>...</td>\n",
       "      <td>...</td>\n",
       "      <td>...</td>\n",
       "      <td>...</td>\n",
       "      <td>...</td>\n",
       "    </tr>\n",
       "    <tr>\n",
       "      <th>2013-11-10</th>\n",
       "      <td>0.010706</td>\n",
       "      <td>0.000054</td>\n",
       "      <td>977.610000</td>\n",
       "      <td>2013.0</td>\n",
       "      <td>-0.728130</td>\n",
       "    </tr>\n",
       "    <tr>\n",
       "      <th>2013-11-17</th>\n",
       "      <td>NaN</td>\n",
       "      <td>NaN</td>\n",
       "      <td>NaN</td>\n",
       "      <td>NaN</td>\n",
       "      <td>NaN</td>\n",
       "    </tr>\n",
       "    <tr>\n",
       "      <th>2013-11-24</th>\n",
       "      <td>NaN</td>\n",
       "      <td>NaN</td>\n",
       "      <td>NaN</td>\n",
       "      <td>NaN</td>\n",
       "      <td>NaN</td>\n",
       "    </tr>\n",
       "    <tr>\n",
       "      <th>2013-12-01</th>\n",
       "      <td>NaN</td>\n",
       "      <td>NaN</td>\n",
       "      <td>NaN</td>\n",
       "      <td>NaN</td>\n",
       "      <td>NaN</td>\n",
       "    </tr>\n",
       "    <tr>\n",
       "      <th>2013-12-08</th>\n",
       "      <td>-0.002541</td>\n",
       "      <td>0.000046</td>\n",
       "      <td>1012.915000</td>\n",
       "      <td>2013.0</td>\n",
       "      <td>0.095175</td>\n",
       "    </tr>\n",
       "  </tbody>\n",
       "</table>\n",
       "<p>310 rows × 5 columns</p>\n",
       "</div>"
      ],
      "text/plain": [
       "               Price       Ret           RV    Year  Log Return\n",
       "Date                                                           \n",
       "2008-01-06  0.027051  0.000038  1562.500000  2008.0    0.920397\n",
       "2008-01-13 -0.010284  0.000061  1451.100000  2008.0    0.649013\n",
       "2008-01-20 -0.018598  0.000232  1584.233333  2008.0    0.148065\n",
       "2008-01-27 -0.016112  0.000659  1468.966667  2008.0   -0.824038\n",
       "2008-02-03  0.012443  0.000127  1520.300000  2008.0    0.422116\n",
       "...              ...       ...          ...     ...         ...\n",
       "2013-11-10  0.010706  0.000054   977.610000  2013.0   -0.728130\n",
       "2013-11-17       NaN       NaN          NaN     NaN         NaN\n",
       "2013-11-24       NaN       NaN          NaN     NaN         NaN\n",
       "2013-12-01       NaN       NaN          NaN     NaN         NaN\n",
       "2013-12-08 -0.002541  0.000046  1012.915000  2013.0    0.095175\n",
       "\n",
       "[310 rows x 5 columns]"
      ]
     },
     "execution_count": 62,
     "metadata": {},
     "output_type": "execute_result"
    }
   ],
   "source": [
    "pd.DataFrame(weekly_avg)"
   ]
  },
  {
   "cell_type": "markdown",
   "metadata": {},
   "source": [
    "6. Which company recorded the highest total return over the whole period?"
   ]
  },
  {
   "cell_type": "code",
   "execution_count": 65,
   "metadata": {},
   "outputs": [
    {
     "data": {
      "text/html": [
       "<div>\n",
       "<style scoped>\n",
       "    .dataframe tbody tr th:only-of-type {\n",
       "        vertical-align: middle;\n",
       "    }\n",
       "\n",
       "    .dataframe tbody tr th {\n",
       "        vertical-align: top;\n",
       "    }\n",
       "\n",
       "    .dataframe thead th {\n",
       "        text-align: right;\n",
       "    }\n",
       "</style>\n",
       "<table border=\"1\" class=\"dataframe\">\n",
       "  <thead>\n",
       "    <tr style=\"text-align: right;\">\n",
       "      <th></th>\n",
       "      <th>Price</th>\n",
       "    </tr>\n",
       "    <tr>\n",
       "      <th>Year</th>\n",
       "      <th></th>\n",
       "    </tr>\n",
       "  </thead>\n",
       "  <tbody>\n",
       "    <tr>\n",
       "      <th>2008</th>\n",
       "      <td>0.103010</td>\n",
       "    </tr>\n",
       "    <tr>\n",
       "      <th>2009</th>\n",
       "      <td>0.063841</td>\n",
       "    </tr>\n",
       "    <tr>\n",
       "      <th>2010</th>\n",
       "      <td>0.030571</td>\n",
       "    </tr>\n",
       "    <tr>\n",
       "      <th>2011</th>\n",
       "      <td>0.038837</td>\n",
       "    </tr>\n",
       "    <tr>\n",
       "      <th>2012</th>\n",
       "      <td>0.033955</td>\n",
       "    </tr>\n",
       "    <tr>\n",
       "      <th>2013</th>\n",
       "      <td>0.022173</td>\n",
       "    </tr>\n",
       "  </tbody>\n",
       "</table>\n",
       "</div>"
      ],
      "text/plain": [
       "         Price\n",
       "Year          \n",
       "2008  0.103010\n",
       "2009  0.063841\n",
       "2010  0.030571\n",
       "2011  0.038837\n",
       "2012  0.033955\n",
       "2013  0.022173"
      ]
     },
     "execution_count": 65,
     "metadata": {},
     "output_type": "execute_result"
    }
   ],
   "source": [
    "df.groupby('Year')[[' Price']].max()"
   ]
  },
  {
   "cell_type": "markdown",
   "metadata": {},
   "source": [
    "7. Plot the log-returns of the companies (ideally in the same plot)"
   ]
  },
  {
   "cell_type": "code",
   "execution_count": 69,
   "metadata": {},
   "outputs": [],
   "source": [
    "plotconfig = {\n",
    "    'style':'.',\n",
    "    'grid':True,\n",
    "    'markersize':5,\n",
    "    'figsize':(12,5)\n",
    "}"
   ]
  },
  {
   "cell_type": "code",
   "execution_count": 70,
   "metadata": {},
   "outputs": [
    {
     "data": {
      "text/plain": [
       "<Axes: xlabel='Date'>"
      ]
     },
     "execution_count": 70,
     "metadata": {},
     "output_type": "execute_result"
    },
    {
     "data": {
      "image/png": "[encoded data removed]",
      "text/plain": [
       "<Figure size 1200x500 with 1 Axes>"
      ]
     },
     "metadata": {},
     "output_type": "display_data"
    }
   ],
   "source": [
    "df[' Price'].plot(label=\"original\", **plotconfig, legend=True)"
   ]
  },
  {
   "cell_type": "code",
   "execution_count": 72,
   "metadata": {},
   "outputs": [],
   "source": [
    "pivot_df = df.pivot_table(values=' Price', columns='Year', index=df.index)"
   ]
  },
  {
   "cell_type": "code",
   "execution_count": 76,
   "metadata": {},
   "outputs": [
    {
     "name": "stdout",
     "output_type": "stream",
     "text": [
      "Year            2008  2009  2010  2011  2012      2013\n",
      "Date                                                  \n",
      "2008-01-04  0.027051   NaN   NaN   NaN   NaN       NaN\n",
      "2008-01-08 -0.010284   NaN   NaN   NaN   NaN       NaN\n",
      "2008-01-15 -0.018769   NaN   NaN   NaN   NaN       NaN\n",
      "2008-01-16 -0.031088   NaN   NaN   NaN   NaN       NaN\n",
      "2008-01-17 -0.005938   NaN   NaN   NaN   NaN       NaN\n",
      "...              ...   ...   ...   ...   ...       ...\n",
      "2013-10-05       NaN   NaN   NaN   NaN   NaN -0.003226\n",
      "2013-11-02       NaN   NaN   NaN   NaN   NaN  0.004242\n",
      "2013-11-04       NaN   NaN   NaN   NaN   NaN  0.010706\n",
      "2013-12-02       NaN   NaN   NaN   NaN   NaN  0.003267\n",
      "2013-12-03       NaN   NaN   NaN   NaN   NaN -0.008350\n",
      "\n",
      "[680 rows x 6 columns]\n"
     ]
    }
   ],
   "source": [
    "print(pivot_df)"
   ]
  },
  {
   "cell_type": "code",
   "execution_count": 73,
   "metadata": {},
   "outputs": [
    {
     "data": {
      "text/plain": [
       "<Axes: xlabel='Date'>"
      ]
     },
     "execution_count": 73,
     "metadata": {},
     "output_type": "execute_result"
    },
    {
     "data": {
      "image/png": "[encoded data removed]",
      "text/plain": [
       "<Figure size 1000x600 with 1 Axes>"
      ]
     },
     "metadata": {},
     "output_type": "display_data"
    }
   ],
   "source": [
    "plt.figure(figsize=(10, 6))\n",
    "\n",
    "# Plot the prices for each year\n",
    "pivot_df.plot(ax=plt.gca(), legend=True)"
   ]
  },
  {
   "cell_type": "markdown",
   "metadata": {},
   "source": [
    "8. Show the log-return distribution of the companies (ideally in the same plot)"
   ]
  },
  {
   "cell_type": "code",
   "execution_count": 77,
   "metadata": {},
   "outputs": [
    {
     "data": {
      "text/plain": [
       "array([[<Axes: title={'center': '2008'}>,\n",
       "        <Axes: title={'center': '2009'}>],\n",
       "       [<Axes: title={'center': '2010'}>,\n",
       "        <Axes: title={'center': '2011'}>],\n",
       "       [<Axes: title={'center': '2012'}>,\n",
       "        <Axes: title={'center': '2013'}>]], dtype=object)"
      ]
     },
     "execution_count": 77,
     "metadata": {},
     "output_type": "execute_result"
    },
    {
     "data": {
      "image/png": "[encoded data removed]",
      "text/plain": [
       "<Figure size 640x480 with 6 Axes>"
      ]
     },
     "metadata": {},
     "output_type": "display_data"
    }
   ],
   "source": [
    "pivot_df.hist()"
   ]
  },
  {
   "cell_type": "code",
   "execution_count": null,
   "metadata": {},
   "outputs": [],
   "source": [
    "2008 = df.loc[df.['Year']]\n",
    "covid.loc[covid['iso_code'].isin(['SVK','CZE'])] "
   ]
  },
  {
   "cell_type": "markdown",
   "metadata": {},
   "source": [
    "import pandas as pd\n",
    "\n",
    "merged_df = pd.merge(df1, df2, how='type_of_join', on='common_column')\n",
    "\n",
    "Key Parameters:\n",
    "\n",
    "- df1: The first DataFrame.\n",
    "- df2: The second DataFrame.\n",
    "- how: Specifies the type of join. Common options are:\n",
    "- 'inner': Returns only the rows with keys that appear in both DataFrames (default).\n",
    "- 'left': All rows from the left DataFrame and matching rows from the right DataFrame.\n",
    "- 'right': All rows from the right DataFrame and matching rows from the left DataFrame.\n",
    "- 'outer': All rows from both DataFrames, filling with NaN for missing values.\n",
    "- on: The column or index on which to merge the DataFrames. If not specified, it will try to merge on columns with the same name."
   ]
  }
 ],
 "metadata": {
  "kernelspec": {
   "display_name": "Python 3",
   "language": "python",
   "name": "python3"
  },
  "language_info": {
   "codemirror_mode": {
    "name": "ipython",
    "version": 3
   },
   "file_extension": ".py",
   "mimetype": "text/x-python",
   "name": "python",
   "nbconvert_exporter": "python",
   "pygments_lexer": "ipython3",
   "version": "3.12.6"
  }
 },
 "nbformat": 4,
 "nbformat_minor": 2
}
